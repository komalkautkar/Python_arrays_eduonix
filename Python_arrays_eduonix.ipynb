{
 "cells": [
  {
   "cell_type": "code",
   "execution_count": 1,
   "id": "39a88c36",
   "metadata": {},
   "outputs": [],
   "source": [
    "import array as arr"
   ]
  },
  {
   "cell_type": "code",
   "execution_count": 2,
   "id": "c2c0260b",
   "metadata": {},
   "outputs": [],
   "source": [
    "a=arr.array('i',[2,3,4,5])                 "
   ]
  },
  {
   "cell_type": "code",
   "execution_count": 3,
   "id": "f3a68383",
   "metadata": {},
   "outputs": [
    {
     "data": {
      "text/plain": [
       "2"
      ]
     },
     "execution_count": 3,
     "metadata": {},
     "output_type": "execute_result"
    }
   ],
   "source": [
    "a[0]"
   ]
  },
  {
   "cell_type": "code",
   "execution_count": 4,
   "id": "4208b576",
   "metadata": {},
   "outputs": [
    {
     "data": {
      "text/plain": [
       "3"
      ]
     },
     "execution_count": 4,
     "metadata": {},
     "output_type": "execute_result"
    }
   ],
   "source": [
    "a[1]           "
   ]
  },
  {
   "cell_type": "code",
   "execution_count": 5,
   "id": "5863e241",
   "metadata": {},
   "outputs": [
    {
     "data": {
      "text/plain": [
       "5"
      ]
     },
     "execution_count": 5,
     "metadata": {},
     "output_type": "execute_result"
    }
   ],
   "source": [
    "a[-1]"
   ]
  },
  {
   "cell_type": "code",
   "execution_count": 6,
   "id": "d37614c6",
   "metadata": {},
   "outputs": [
    {
     "data": {
      "text/plain": [
       "array('i', [100, 3, 4, 5])"
      ]
     },
     "execution_count": 6,
     "metadata": {},
     "output_type": "execute_result"
    }
   ],
   "source": [
    "a[0]=100\n",
    "a"
   ]
  },
  {
   "cell_type": "code",
   "execution_count": 7,
   "id": "cead4b38",
   "metadata": {},
   "outputs": [
    {
     "ename": "SyntaxError",
     "evalue": "invalid syntax (1183771728.py, line 2)",
     "output_type": "error",
     "traceback": [
      "\u001b[1;36m  Cell \u001b[1;32mIn[7], line 2\u001b[1;36m\u001b[0m\n\u001b[1;33m    a                                               ---now i want to o/p is 100,3,101,5\u001b[0m\n\u001b[1;37m                                                           ^\u001b[0m\n\u001b[1;31mSyntaxError\u001b[0m\u001b[1;31m:\u001b[0m invalid syntax\n"
     ]
    }
   ],
   "source": [
    "a[2]=101\n",
    "a                                               ---now i want to o/p is 100,3,101,5"
   ]
  },
  {
   "cell_type": "code",
   "execution_count": 18,
   "id": "50462710",
   "metadata": {},
   "outputs": [
    {
     "data": {
      "text/plain": [
       "array('i', [100, 3, 4, 0])"
      ]
     },
     "execution_count": 18,
     "metadata": {},
     "output_type": "execute_result"
    }
   ],
   "source": [
    "a[3]=0\n",
    "a"
   ]
  },
  {
   "cell_type": "code",
   "execution_count": 19,
   "id": "6f323bba",
   "metadata": {},
   "outputs": [
    {
     "data": {
      "text/plain": [
       "array('i', [100, 3, 4, 0])"
      ]
     },
     "execution_count": 19,
     "metadata": {},
     "output_type": "execute_result"
    }
   ],
   "source": [
    "a"
   ]
  },
  {
   "cell_type": "code",
   "execution_count": 20,
   "id": "fd12c7b2",
   "metadata": {},
   "outputs": [
    {
     "data": {
      "text/plain": [
       "array('i', [3, 4])"
      ]
     },
     "execution_count": 20,
     "metadata": {},
     "output_type": "execute_result"
    }
   ],
   "source": [
    "b=a[1:3]\n",
    "b"
   ]
  },
  {
   "cell_type": "code",
   "execution_count": 17,
   "id": "9441e43b",
   "metadata": {},
   "outputs": [
    {
     "data": {
      "text/plain": [
       "array('i', [100, 3, 4])"
      ]
     },
     "execution_count": 17,
     "metadata": {},
     "output_type": "execute_result"
    }
   ],
   "source": [
    "c=a[0:3]\n",
    "c"
   ]
  },
  {
   "cell_type": "code",
   "execution_count": 16,
   "id": "5e7982eb",
   "metadata": {},
   "outputs": [
    {
     "data": {
      "text/plain": [
       "array('i', [4, 5])"
      ]
     },
     "execution_count": 16,
     "metadata": {},
     "output_type": "execute_result"
    }
   ],
   "source": [
    "d=a[2:4]\n",
    "d"
   ]
  },
  {
   "cell_type": "code",
   "execution_count": 15,
   "id": "1f328663",
   "metadata": {},
   "outputs": [
    {
     "data": {
      "text/plain": [
       "array('i', [100, 3, 4, 5])"
      ]
     },
     "execution_count": 15,
     "metadata": {},
     "output_type": "execute_result"
    }
   ],
   "source": [
    "e=a[0:10]\n",
    "e"
   ]
  },
  {
   "cell_type": "code",
   "execution_count": 13,
   "id": "ebe915f2",
   "metadata": {},
   "outputs": [
    {
     "ename": "IndexError",
     "evalue": "array index out of range",
     "output_type": "error",
     "traceback": [
      "\u001b[1;31m---------------------------------------------------------------------------\u001b[0m",
      "\u001b[1;31mIndexError\u001b[0m                                Traceback (most recent call last)",
      "Cell \u001b[1;32mIn[13], line 1\u001b[0m\n\u001b[1;32m----> 1\u001b[0m a[\u001b[38;5;241m10\u001b[39m]\n",
      "\u001b[1;31mIndexError\u001b[0m: array index out of range"
     ]
    }
   ],
   "source": [
    "a[10]"
   ]
  },
  {
   "cell_type": "code",
   "execution_count": 12,
   "id": "5e5a2e66",
   "metadata": {},
   "outputs": [
    {
     "data": {
      "text/plain": [
       "array('i', [5])"
      ]
     },
     "execution_count": 12,
     "metadata": {},
     "output_type": "execute_result"
    }
   ],
   "source": [
    "f=a[3:100]\n",
    "f\n"
   ]
  },
  {
   "cell_type": "code",
   "execution_count": 9,
   "id": "eed2d42b",
   "metadata": {},
   "outputs": [
    {
     "data": {
      "text/plain": [
       "array('i', [1, 2, 3, 4, 5, 6])"
      ]
     },
     "execution_count": 9,
     "metadata": {},
     "output_type": "execute_result"
    }
   ],
   "source": [
    "import array as arr\n",
    "sample_array=arr.array('i',[1,2,3,4,5,6])\n",
    "sample_array"
   ]
  },
  {
   "cell_type": "code",
   "execution_count": 10,
   "id": "98e7fb27",
   "metadata": {},
   "outputs": [
    {
     "data": {
      "text/plain": [
       "array('i', [1, 2, 3, 4])"
      ]
     },
     "execution_count": 10,
     "metadata": {},
     "output_type": "execute_result"
    }
   ],
   "source": [
    "sample_array[0:4]"
   ]
  },
  {
   "cell_type": "code",
   "execution_count": 11,
   "id": "871c3b04",
   "metadata": {},
   "outputs": [
    {
     "data": {
      "text/plain": [
       "array('i', [1, 2, 3, 4, 5])"
      ]
     },
     "execution_count": 11,
     "metadata": {},
     "output_type": "execute_result"
    }
   ],
   "source": [
    "del sample_array[5]\n",
    "sample_array                                    --index 5 deleted"
   ]
  },
  {
   "cell_type": "markdown",
   "id": "541c6540",
   "metadata": {},
   "source": [
    "###Concatenation"
   ]
  },
  {
   "cell_type": "code",
   "execution_count": 21,
   "id": "3bfa900e",
   "metadata": {},
   "outputs": [
    {
     "data": {
      "text/plain": [
       "array('d', [1.1, 2.2, 3.1, 4.4, 7.8, 5.6, 10.4])"
      ]
     },
     "execution_count": 21,
     "metadata": {},
     "output_type": "execute_result"
    }
   ],
   "source": [
    "a=arr.array('d',[1.1,2.2,3.1,4.4,7.8])                 ---d is the decimal no...here i am randomly creating array \n",
    "b=arr.array('d',[5.6,10.4])\n",
    "c=arr.array('d')\n",
    "c=a+b                                                  \n",
    "c"
   ]
  },
  {
   "cell_type": "code",
   "execution_count": 22,
   "id": "180197b7",
   "metadata": {},
   "outputs": [
    {
     "ename": "TypeError",
     "evalue": "unsupported operand type(s) for -: 'array.array' and 'array.array'",
     "output_type": "error",
     "traceback": [
      "\u001b[1;31m---------------------------------------------------------------------------\u001b[0m",
      "\u001b[1;31mTypeError\u001b[0m                                 Traceback (most recent call last)",
      "Cell \u001b[1;32mIn[22], line 4\u001b[0m\n\u001b[0;32m      2\u001b[0m b\u001b[38;5;241m=\u001b[39marr\u001b[38;5;241m.\u001b[39marray(\u001b[38;5;124m'\u001b[39m\u001b[38;5;124md\u001b[39m\u001b[38;5;124m'\u001b[39m,[\u001b[38;5;241m5.6\u001b[39m,\u001b[38;5;241m10.4\u001b[39m])\n\u001b[0;32m      3\u001b[0m c\u001b[38;5;241m=\u001b[39marr\u001b[38;5;241m.\u001b[39marray(\u001b[38;5;124m'\u001b[39m\u001b[38;5;124md\u001b[39m\u001b[38;5;124m'\u001b[39m)\n\u001b[1;32m----> 4\u001b[0m c\u001b[38;5;241m=\u001b[39ma\u001b[38;5;241m-\u001b[39mb\n\u001b[0;32m      5\u001b[0m c\n",
      "\u001b[1;31mTypeError\u001b[0m: unsupported operand type(s) for -: 'array.array' and 'array.array'"
     ]
    }
   ],
   "source": [
    "a=arr.array('d',[1.1,2.2,3.1,4.4,7.8])\n",
    "b=arr.array('d',[5.6,10.4])\n",
    "c=arr.array('d')\n",
    "c=a-b\n",
    "c"
   ]
  },
  {
   "cell_type": "code",
   "execution_count": null,
   "id": "a7775407",
   "metadata": {},
   "outputs": [],
   "source": [
    "Note:just we can use only additional operator , plus opeartaor.It is not adding two that,it is getting concatenated"
   ]
  },
  {
   "cell_type": "code",
   "execution_count": 23,
   "id": "dbb48c5a",
   "metadata": {},
   "outputs": [
    {
     "data": {
      "text/plain": [
       "array('d', [5.6, 10.4, 1.1, 2.2, 3.1, 4.4, 7.8])"
      ]
     },
     "execution_count": 23,
     "metadata": {},
     "output_type": "execute_result"
    }
   ],
   "source": [
    "a=arr.array('d',[1.1,2.2,3.1,4.4,7.8])\n",
    "b=arr.array('d',[5.6,10.4])\n",
    "c=arr.array('d')\n",
    "c=b+a\n",
    "c"
   ]
  },
  {
   "cell_type": "code",
   "execution_count": null,
   "id": "301c9f13",
   "metadata": {},
   "outputs": [],
   "source": [
    "### I want the output of 5.6(retrieve the data),2.2,7.8"
   ]
  },
  {
   "cell_type": "code",
   "execution_count": 24,
   "id": "dbb1146b",
   "metadata": {},
   "outputs": [
    {
     "data": {
      "text/plain": [
       "5.6"
      ]
     },
     "execution_count": 24,
     "metadata": {},
     "output_type": "execute_result"
    }
   ],
   "source": [
    "c[0]"
   ]
  },
  {
   "cell_type": "code",
   "execution_count": 25,
   "id": "b7f7970c",
   "metadata": {},
   "outputs": [
    {
     "data": {
      "text/plain": [
       "2.2"
      ]
     },
     "execution_count": 25,
     "metadata": {},
     "output_type": "execute_result"
    }
   ],
   "source": [
    "c[3]"
   ]
  },
  {
   "cell_type": "code",
   "execution_count": 26,
   "id": "1be80d3e",
   "metadata": {},
   "outputs": [
    {
     "data": {
      "text/plain": [
       "7.8"
      ]
     },
     "execution_count": 26,
     "metadata": {},
     "output_type": "execute_result"
    }
   ],
   "source": [
    "c[6]"
   ]
  },
  {
   "cell_type": "code",
   "execution_count": 27,
   "id": "a243b8e3",
   "metadata": {},
   "outputs": [
    {
     "data": {
      "text/plain": [
       "7.8"
      ]
     },
     "execution_count": 27,
     "metadata": {},
     "output_type": "execute_result"
    }
   ],
   "source": [
    "c[-1]"
   ]
  },
  {
   "cell_type": "code",
   "execution_count": 28,
   "id": "4baf25a6",
   "metadata": {},
   "outputs": [],
   "source": [
    "###I want the output [10.4,1.1]"
   ]
  },
  {
   "cell_type": "code",
   "execution_count": 29,
   "id": "fb86d3de",
   "metadata": {},
   "outputs": [
    {
     "data": {
      "text/plain": [
       "array('d', [10.4, 1.1])"
      ]
     },
     "execution_count": 29,
     "metadata": {},
     "output_type": "execute_result"
    }
   ],
   "source": [
    "c[1:3]"
   ]
  },
  {
   "cell_type": "code",
   "execution_count": 30,
   "id": "ca0240b1",
   "metadata": {},
   "outputs": [],
   "source": [
    "###Now I want same output but u need to tell me negative index"
   ]
  },
  {
   "cell_type": "code",
   "execution_count": 32,
   "id": "06d0016e",
   "metadata": {},
   "outputs": [
    {
     "data": {
      "text/plain": [
       "array('d', [10.4, 1.1])"
      ]
     },
     "execution_count": 32,
     "metadata": {},
     "output_type": "execute_result"
    }
   ],
   "source": [
    "c[-6:-4]"
   ]
  },
  {
   "cell_type": "code",
   "execution_count": null,
   "id": "9a5247f3",
   "metadata": {},
   "outputs": [],
   "source": []
  }
 ],
 "metadata": {
  "kernelspec": {
   "display_name": "Python 3 (ipykernel)",
   "language": "python",
   "name": "python3"
  },
  "language_info": {
   "codemirror_mode": {
    "name": "ipython",
    "version": 3
   },
   "file_extension": ".py",
   "mimetype": "text/x-python",
   "name": "python",
   "nbconvert_exporter": "python",
   "pygments_lexer": "ipython3",
   "version": "3.11.5"
  }
 },
 "nbformat": 4,
 "nbformat_minor": 5
}
